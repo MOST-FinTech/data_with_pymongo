{
 "cells": [
  {
   "cell_type": "code",
   "execution_count": null,
   "metadata": {
    "collapsed": true
   },
   "outputs": [],
   "source": [
    "# Extracting a full list of Cryptocurrencies\n",
    "\n",
    "# Cryptocurrency Time-Series for N-CryptoAsset Portfolio Analysis in Python\n",
    "# http://www.quantatrisk.com/2017/03/20/download-crypto-currency-time-series-portfolio-python/\n",
    "# With  CryptoComapre.com API  https://www.cryptocompare.com/\n",
    "\n",
    "import json\n",
    "from pprint import pprint \n",
    "from bs4 import BeautifulSoup\n",
    "import requests \n",
    " \n",
    "url = \"https://www.cryptocompare.com/api/data/coinlist/\"\n",
    "response = requests.get(url)\n",
    "soup = BeautifulSoup(response.content, \"html.parser\")\n",
    "data = json.loads(soup.prettify()) # type(data) -> dict\n",
    "data = data['Data']  # choose key = 'Data'\n",
    "pprint(data)  # display the content\n",
    "\n",
    "\n",
    "# check coin list\n",
    "# crypto_lst = sorted(list(data.keys()))\n",
    "# print(crypto_lst) "
   ]
  },
  {
   "cell_type": "code",
   "execution_count": null,
   "metadata": {
    "collapsed": true
   },
   "outputs": [],
   "source": [
    "# Getting a List of Cryptocurrencies sorted by their most current Market Cap\n",
    "\n",
    "import pandas as pd\n",
    "import json\n",
    "from bs4 import BeautifulSoup\n",
    "from pprint import pprint \n",
    "import requests\n",
    " \n",
    "url = \"https://api.coinmarketcap.com/v1/ticker/\"\n",
    "response = requests.get(url)\n",
    "soup = BeautifulSoup(response.content, \"html.parser\")\n",
    "data = json.loads(soup.prettify())  #list\n",
    "\n",
    "# create an empty DataFrame\n",
    "df = pd.DataFrame(columns=[\"Ticker\", \"MarketCap\"]) \n",
    "\n",
    "for i in range(len(data)):\n",
    "    df.loc[len(df)] = [data[i]['symbol'], data[i]['market_cap_usd']]\n",
    "\n",
    "# order by marketcap\n",
    "df.sort_values(by=['MarketCap'])\n",
    "\n",
    "# apply conversion to numeric as 'df' contains lots of 'None' string as values\n",
    "df.MarketCap = pd.to_numeric(df.MarketCap)    \n",
    "\n",
    "\n",
    "# marketcap >20e6\n",
    "P = df[df.MarketCap > 20e6]\n",
    "print(P, end=\"\\n\\n\")\n",
    "\n",
    "# print their name \n",
    "portfolio = list(P.Ticker) #這滿酷,直接將一個column變list\n",
    "print(portfolio)\n",
    "\n",
    "# df.head()"
   ]
  },
  {
   "cell_type": "code",
   "execution_count": 2,
   "metadata": {},
   "outputs": [
    {
     "name": "stdout",
     "output_type": "stream",
     "text": [
      "Populating the interactive namespace from numpy and matplotlib\n"
     ]
    }
   ],
   "source": [
    "# Downloading daily price-series OHLC for Cryptocurrencies\n",
    "# OHLC Open-high-low-close chart\n",
    "\n",
    "import numpy as np\n",
    "from matplotlib import pyplot as plt\n",
    "import pandas as pd\n",
    "import json\n",
    "from bs4 import BeautifulSoup\n",
    "import requests\n",
    "%pylab inline\n",
    "from datetime import datetime\n",
    "\n",
    "def timestamp2date(timestamp):\n",
    "    # function converts a Unix timestamp into Gregorian date\n",
    "    return datetime.fromtimestamp(int(timestamp)).strftime('%Y-%m-%d')\n",
    "\n",
    "def date2timestamp(date):\n",
    "    # function coverts Gregorian date in a given format to timestamp\n",
    "    return datetime.strptime(date_today, '%Y-%m-%d').timestamp()\n",
    "\n",
    "def fetchCryptoOHLC(fsym, tsym):\n",
    "    # function fetches a crypto price-series for fsym/tsym and stores\n",
    "    # it in pandas DataFrame\n",
    " \n",
    "    cols = ['date', 'timestamp', 'open', 'high', 'low', 'close']\n",
    "    lst = ['time', 'open', 'high', 'low', 'close']\n",
    " \n",
    "    timestamp_today = datetime.today().timestamp()\n",
    "    curr_timestamp = timestamp_today\n",
    " \n",
    "    for j in range(2):\n",
    "        df = pd.DataFrame(columns=cols)  # empty df\n",
    "        url = \"https://min-api.cryptocompare.com/data/histoday?fsym=\" + fsym + \"&tsym=\" + tsym + \"&toTs=\" + str(int(curr_timestamp)) + \"&limit=2000\"\n",
    "        response = requests.get(url)\n",
    "        print(j, url)\n",
    "        soup = BeautifulSoup(response.content, \"html.parser\")\n",
    "        dic = json.loads(soup.prettify())\n",
    "        for i in range(1, 2001):\n",
    "            tmp = []\n",
    "            for e in enumerate(lst):\n",
    "                x = e[0]\n",
    "                y = dic['Data'][i][e[1]]\n",
    "                if(x == 0):\n",
    "                    tmp.append(str(timestamp2date(y)))\n",
    "                tmp.append(y)\n",
    "            if(np.sum(tmp[-4::]) > 0):\n",
    "                df.loc[len(df)] = np.array(tmp)\n",
    "        df.index = pd.to_datetime(df.date)\n",
    "        df.drop('date', axis=1, inplace=True)\n",
    "        curr_timestamp = int(df.ix[0][0])\n",
    "        if(j == 0):\n",
    "            df0 = df.copy()\n",
    "        else:\n",
    "            data = pd.concat([df, df0], axis=0)\n",
    " \n",
    "    return data"
   ]
  },
  {
   "cell_type": "code",
   "execution_count": 3,
   "metadata": {},
   "outputs": [
    {
     "name": "stdout",
     "output_type": "stream",
     "text": [
      "0 https://min-api.cryptocompare.com/data/histoday?fsym=BTC&tsym=USD&toTs=1501836930&limit=2000\n",
      "1 https://min-api.cryptocompare.com/data/histoday?fsym=BTC&tsym=USD&toTs=1329091200&limit=2000\n",
      "             timestamp     open     high      low    close\n",
      "date                                                      \n",
      "2010-07-17  1279324800  0.04951  0.04951  0.04951  0.04951\n",
      "2010-07-18  1279411200  0.04951  0.08585  0.05941  0.08584\n",
      "2010-07-19  1279497600  0.08584  0.09307  0.07723   0.0808\n",
      "2010-07-20  1279584000   0.0808  0.08181  0.07426  0.07474\n",
      "2010-07-21  1279670400  0.07474  0.07921  0.06634  0.07921\n",
      "2010-07-22  1279756800  0.07921  0.08181   0.0505   0.0505\n",
      "2010-07-23  1279843200   0.0505  0.06767   0.0505  0.06262\n",
      "2010-07-24  1279929600  0.06262  0.06161  0.05049  0.05454\n",
      "2010-07-25  1280016000  0.05454  0.05941   0.0505   0.0505\n",
      "2010-07-26  1280102400   0.0505    0.056     0.05    0.056\n",
      "2010-07-27  1280188800    0.056   0.0605    0.053     0.06\n",
      "2010-07-28  1280275200     0.06    0.062    0.054   0.0589\n",
      "2010-07-29  1280361600   0.0589   0.0699   0.0571   0.0699\n",
      "2010-07-30  1280448000   0.0699   0.0698   0.0582   0.0627\n",
      "2010-07-31  1280534400   0.0627  0.06889    0.056  0.06785\n",
      "2010-08-01  1280620800  0.06785    0.065     0.06   0.0611\n",
      "2010-08-02  1280707200   0.0611   0.0633     0.06     0.06\n",
      "2010-08-03  1280793600     0.06    0.065    0.059     0.06\n",
      "2010-08-04  1280880000     0.06  0.06231    0.057    0.057\n",
      "2010-08-05  1280966400    0.057    0.061    0.058    0.061\n",
      "2010-08-06  1281052800    0.061   0.0624   0.0607   0.0623\n",
      "2010-08-07  1281139200   0.0623   0.0622    0.059    0.059\n",
      "2010-08-08  1281225600    0.059    0.061    0.059   0.0609\n",
      "2010-08-09  1281312000   0.0609   0.0735   0.0593    0.071\n",
      "2010-08-10  1281398400    0.071   0.0709  0.06651     0.07\n",
      "2010-08-11  1281484800     0.07  0.07541     0.06    0.067\n",
      "2010-08-12  1281571200    0.067     0.07  0.06141     0.07\n",
      "2010-08-13  1281657600     0.07    0.068   0.0645   0.0645\n",
      "2010-08-14  1281744000   0.0645   0.0695   0.0645    0.067\n",
      "2010-08-15  1281830400    0.067    0.067    0.065  0.06529\n",
      "...                ...      ...      ...      ...      ...\n",
      "2017-07-06  1499299200  2627.86  2634.84   2581.8  2614.24\n",
      "2017-07-07  1499385600  2614.24  2617.48  2484.73  2513.88\n",
      "2017-07-08  1499472000  2513.88  2568.73  2480.62  2564.86\n",
      "2017-07-09  1499558400  2564.86  2576.73  2509.65  2511.43\n",
      "2017-07-10  1499644800  2511.43  2530.34  2271.79  2344.02\n",
      "2017-07-11  1499731200  2344.02  2412.75  2265.48  2324.29\n",
      "2017-07-12  1499817600  2324.29  2424.82  2262.08  2403.09\n",
      "2017-07-13  1499904000  2403.09  2436.66  2334.96  2362.44\n",
      "2017-07-14  1499990400  2362.44  2370.53  2165.36  2234.17\n",
      "2017-07-15  1500076800  2234.17  2237.13  1974.03  1975.08\n",
      "2017-07-16  1500163200  1975.08  2044.41  1808.99  1914.09\n",
      "2017-07-17  1500249600  1914.09  2233.83  1913.79  2233.39\n",
      "2017-07-18  1500336000  2233.39  2400.74  2164.59  2320.23\n",
      "2017-07-19  1500422400  2320.23  2412.38  2243.13  2282.58\n",
      "2017-07-20  1500508800  2282.58  2932.81  2282.11  2866.02\n",
      "2017-07-21  1500595200  2866.02  2873.96  2622.54  2675.08\n",
      "2017-07-22  1500681600  2675.08  2876.71  2658.59  2836.53\n",
      "2017-07-23  1500768000  2836.53  2856.67  2675.65  2756.61\n",
      "2017-07-24  1500854400  2756.61  2798.89  2715.69  2763.42\n",
      "2017-07-25  1500940800  2763.42  2779.08  2472.62  2582.58\n",
      "2017-07-26  1501027200  2582.58  2631.73  2441.54  2559.21\n",
      "2017-07-27  1501113600  2559.21  2712.92  2547.74  2691.88\n",
      "2017-07-28  1501200000  2691.88  2843.78  2683.59  2806.75\n",
      "2017-07-29  1501286400  2806.75  2812.13  2699.42   2733.5\n",
      "2017-07-30  1501372800   2733.5  2773.06  2621.68  2766.49\n",
      "2017-07-31  1501459200  2766.49   2916.3  2723.05  2883.27\n",
      "2017-08-01  1501545600  2883.27  2946.02  2659.62  2746.99\n",
      "2017-08-02  1501632000  2746.99   2773.8  2668.87  2720.53\n",
      "2017-08-03  1501718400  2720.53  2822.88  2717.62  2809.99\n",
      "2017-08-04  1501804800  2809.99  2835.86  2779.51  2858.94\n",
      "\n",
      "[2577 rows x 5 columns]\n"
     ]
    }
   ],
   "source": [
    "fsym = \"BTC\"\n",
    "tsym = \"USD\"\n",
    "data = fetchCryptoOHLC(fsym, tsym)\n",
    "\n",
    "# print the BTC/USD OHLC price-series\n",
    "print(data)\n"
   ]
  },
  {
   "cell_type": "code",
   "execution_count": 4,
   "metadata": {},
   "outputs": [],
   "source": [
    "# plot them all\n",
    "# plt.figure(figsize=(10,4))\n",
    "# plt.plot(data.open)\n",
    "# plt.plot(data.high)\n",
    "# plt.plot(data.low)\n",
    "# plt.plot(data.close)\n",
    "# plt.legend(loc=2)\n",
    "# plt.title(fsym, fontsize=12)\n",
    "# plt.ylabel(tsym, fontsize=12)"
   ]
  },
  {
   "cell_type": "code",
   "execution_count": 11,
   "metadata": {},
   "outputs": [
    {
     "name": "stderr",
     "output_type": "stream",
     "text": [
      "D:\\Anaconda3\\lib\\site-packages\\bokeh\\util\\deprecation.py:34: BokehDeprecationWarning:\n",
      "\n",
      "\n",
      "The bokeh.charts API has moved to a separate 'bkcharts' package.\n",
      "\n",
      "This compatibility shim will remain until Bokeh 1.0 is released.\n",
      "After that, if you want to use this API you will have to install\n",
      "the bkcharts package explicitly.\n",
      "\n",
      "\n"
     ]
    }
   ],
   "source": [
    "# bokeh  待繼續研究\n",
    "\n",
    "from bokeh.plotting import figure, output_notebook, show\n",
    "from bokeh.charts import TimeSeries, output_file, show, Line\n",
    "from numpy import cos, linspace\n",
    "\n",
    "p = figure(width=500, height=500)\n",
    "p.line(source=data, x='date', y='open')\n",
    "show(p)"
   ]
  },
  {
   "cell_type": "code",
   "execution_count": 15,
   "metadata": {},
   "outputs": [
    {
     "data": {
      "text/plain": [
       "'file://C:\\\\Users\\\\kbjiyu-NB\\\\Documents\\\\workingspacePython\\\\python scraper\\\\bitcoin新聞_jupter_code\\\\temp-plot.html'"
      ]
     },
     "execution_count": 15,
     "metadata": {},
     "output_type": "execute_result"
    }
   ],
   "source": [
    "# plotly \n",
    "# https://plot.ly/python/line-charts/#line-plot-modes\n",
    "# https://plot.ly/python/time-series/\n",
    "import plotly.plotly as py\n",
    "import plotly.graph_objs as go\n",
    "\n",
    "plotly.tools.set_credentials_file(username='KBJIYU', api_key='QOUekjVYn9nlK2g1Nm6W')\n",
    "\n",
    "open_price = go.Scatter(\n",
    "    x = list(data.index),\n",
    "    y = list(data.open),\n",
    "    mode = 'lines',\n",
    "    name = 'open_price'\n",
    ")\n",
    "close_price = go.Scatter(\n",
    "    x = list(data.index),\n",
    "    y = list(data.close),\n",
    "    mode = 'lines',\n",
    "    name = 'close_price'\n",
    ")\n",
    "high_price = go.Scatter(\n",
    "    x = list(data.index),\n",
    "    y = list(data.high),\n",
    "    mode = 'lines',\n",
    "    name = 'high_price'\n",
    ")\n",
    "low_price = go.Scatter(\n",
    "    x = list(data.index),\n",
    "    y = list(data.low),\n",
    "    mode = 'lines',\n",
    "    name = 'low_price'\n",
    ")\n",
    "\n",
    "graph_data = [open_price, close_price, high_price, low_price]\n",
    "\n",
    "# Online Plot\n",
    "# py.iplot(graph_data, filename = 'line-mode')\n",
    "\n",
    "# Offline Plot \n",
    "plotly.offline.plot({\n",
    "    \"data\": graph_data\n",
    "    #\"layout\": Layout(title=\"BTC_DAILY_PRICE\")\n",
    "})"
   ]
  },
  {
   "cell_type": "code",
   "execution_count": null,
   "metadata": {
    "collapsed": true
   },
   "outputs": [],
   "source": [
    "# https://plot.ly/python/ohlc-charts/\n",
    "# try this \n",
    "\n"
   ]
  },
  {
   "cell_type": "code",
   "execution_count": null,
   "metadata": {
    "collapsed": true
   },
   "outputs": [],
   "source": [
    "# and try scrape historic minutes data"
   ]
  },
  {
   "cell_type": "code",
   "execution_count": null,
   "metadata": {
    "collapsed": true
   },
   "outputs": [],
   "source": []
  }
 ],
 "metadata": {
  "kernelspec": {
   "display_name": "Python 3",
   "language": "python",
   "name": "python3"
  },
  "language_info": {
   "codemirror_mode": {
    "name": "ipython",
    "version": 3
   },
   "file_extension": ".py",
   "mimetype": "text/x-python",
   "name": "python",
   "nbconvert_exporter": "python",
   "pygments_lexer": "ipython3",
   "version": "3.6.0"
  }
 },
 "nbformat": 4,
 "nbformat_minor": 2
}
