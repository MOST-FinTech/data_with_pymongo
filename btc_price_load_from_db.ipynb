{
 "cells": [
  {
   "cell_type": "markdown",
   "metadata": {},
   "source": [
    "# Price data from db"
   ]
  },
  {
   "cell_type": "code",
   "execution_count": 1,
   "metadata": {
    "collapsed": true
   },
   "outputs": [],
   "source": [
    "import requests\n",
    "import json\n",
    "import numpy as np\n",
    "import pymongo\n",
    "import pandas as pd\n",
    "import datetime\n",
    "from bs4 import BeautifulSoup\n",
    "from pprint import pprint\n",
    "from dateutil.relativedelta import relativedelta\n",
    "from pymongo import MongoClient\n",
    "%matplotlib inline"
   ]
  },
  {
   "cell_type": "markdown",
   "metadata": {},
   "source": [
    "### Link to Mongodb"
   ]
  },
  {
   "cell_type": "code",
   "execution_count": 2,
   "metadata": {
    "collapsed": true
   },
   "outputs": [],
   "source": [
    "from pymongo import MongoClient\n",
    "client = MongoClient('mongodb://localhost:27017/')\n",
    "price_db = client.bitcoinprice_db\n",
    "priceCollection = price_db.CoindeskDailyCollection"
   ]
  },
  {
   "cell_type": "code",
   "execution_count": 3,
   "metadata": {
    "collapsed": true
   },
   "outputs": [],
   "source": [
    "# Set list to catch json file\n",
    "price_array = []\n",
    "for n in priceCollection.find():\n",
    "    price_array.append(n)"
   ]
  },
  {
   "cell_type": "markdown",
   "metadata": {},
   "source": [
    "### DBdata to Pandas df"
   ]
  },
  {
   "cell_type": "code",
   "execution_count": 4,
   "metadata": {},
   "outputs": [
    {
     "data": {
      "text/html": [
       "<div>\n",
       "<table border=\"1\" class=\"dataframe\">\n",
       "  <thead>\n",
       "    <tr style=\"text-align: right;\">\n",
       "      <th></th>\n",
       "      <th>Close</th>\n",
       "      <th>Date</th>\n",
       "      <th>High</th>\n",
       "      <th>Low</th>\n",
       "      <th>Open</th>\n",
       "      <th>_id</th>\n",
       "    </tr>\n",
       "  </thead>\n",
       "  <tbody>\n",
       "    <tr>\n",
       "      <th>0</th>\n",
       "      <td>0.09</td>\n",
       "      <td>2010-07-18</td>\n",
       "      <td>0.09</td>\n",
       "      <td>0.06</td>\n",
       "      <td>0.05</td>\n",
       "      <td>59c0ff05a78b030ec4ea3376</td>\n",
       "    </tr>\n",
       "    <tr>\n",
       "      <th>1</th>\n",
       "      <td>0.08</td>\n",
       "      <td>2010-07-19</td>\n",
       "      <td>0.09</td>\n",
       "      <td>0.08</td>\n",
       "      <td>0.09</td>\n",
       "      <td>59c0ff05a78b030ec4ea3377</td>\n",
       "    </tr>\n",
       "    <tr>\n",
       "      <th>2</th>\n",
       "      <td>0.07</td>\n",
       "      <td>2010-07-20</td>\n",
       "      <td>0.08</td>\n",
       "      <td>0.07</td>\n",
       "      <td>0.08</td>\n",
       "      <td>59c0ff05a78b030ec4ea3378</td>\n",
       "    </tr>\n",
       "    <tr>\n",
       "      <th>3</th>\n",
       "      <td>0.08</td>\n",
       "      <td>2010-07-21</td>\n",
       "      <td>0.08</td>\n",
       "      <td>0.07</td>\n",
       "      <td>0.07</td>\n",
       "      <td>59c0ff05a78b030ec4ea3379</td>\n",
       "    </tr>\n",
       "    <tr>\n",
       "      <th>4</th>\n",
       "      <td>0.05</td>\n",
       "      <td>2010-07-22</td>\n",
       "      <td>0.08</td>\n",
       "      <td>0.05</td>\n",
       "      <td>0.08</td>\n",
       "      <td>59c0ff05a78b030ec4ea337a</td>\n",
       "    </tr>\n",
       "  </tbody>\n",
       "</table>\n",
       "</div>"
      ],
      "text/plain": [
       "   Close       Date  High   Low  Open                       _id\n",
       "0   0.09 2010-07-18  0.09  0.06  0.05  59c0ff05a78b030ec4ea3376\n",
       "1   0.08 2010-07-19  0.09  0.08  0.09  59c0ff05a78b030ec4ea3377\n",
       "2   0.07 2010-07-20  0.08  0.07  0.08  59c0ff05a78b030ec4ea3378\n",
       "3   0.08 2010-07-21  0.08  0.07  0.07  59c0ff05a78b030ec4ea3379\n",
       "4   0.05 2010-07-22  0.08  0.05  0.08  59c0ff05a78b030ec4ea337a"
      ]
     },
     "execution_count": 4,
     "metadata": {},
     "output_type": "execute_result"
    }
   ],
   "source": [
    "# To pd.DataFrame\n",
    "price_df =  pd.DataFrame(price_array)\n",
    "price_df.head()"
   ]
  },
  {
   "cell_type": "code",
   "execution_count": 5,
   "metadata": {
    "collapsed": true
   },
   "outputs": [],
   "source": [
    "# Del _id col\n",
    "del price_df['_id']"
   ]
  },
  {
   "cell_type": "code",
   "execution_count": 6,
   "metadata": {
    "collapsed": true
   },
   "outputs": [],
   "source": [
    "# Re-order\n",
    "price_df = price_df[['Date', 'Open', 'High', 'Low', 'Close']]"
   ]
  },
  {
   "cell_type": "code",
   "execution_count": 7,
   "metadata": {},
   "outputs": [
    {
     "data": {
      "text/html": [
       "<div>\n",
       "<table border=\"1\" class=\"dataframe\">\n",
       "  <thead>\n",
       "    <tr style=\"text-align: right;\">\n",
       "      <th></th>\n",
       "      <th>Date</th>\n",
       "      <th>Open</th>\n",
       "      <th>High</th>\n",
       "      <th>Low</th>\n",
       "      <th>Close</th>\n",
       "    </tr>\n",
       "  </thead>\n",
       "  <tbody>\n",
       "    <tr>\n",
       "      <th>0</th>\n",
       "      <td>2010-07-18</td>\n",
       "      <td>0.05</td>\n",
       "      <td>0.09</td>\n",
       "      <td>0.06</td>\n",
       "      <td>0.09</td>\n",
       "    </tr>\n",
       "    <tr>\n",
       "      <th>1</th>\n",
       "      <td>2010-07-19</td>\n",
       "      <td>0.09</td>\n",
       "      <td>0.09</td>\n",
       "      <td>0.08</td>\n",
       "      <td>0.08</td>\n",
       "    </tr>\n",
       "    <tr>\n",
       "      <th>2</th>\n",
       "      <td>2010-07-20</td>\n",
       "      <td>0.08</td>\n",
       "      <td>0.08</td>\n",
       "      <td>0.07</td>\n",
       "      <td>0.07</td>\n",
       "    </tr>\n",
       "    <tr>\n",
       "      <th>3</th>\n",
       "      <td>2010-07-21</td>\n",
       "      <td>0.07</td>\n",
       "      <td>0.08</td>\n",
       "      <td>0.07</td>\n",
       "      <td>0.08</td>\n",
       "    </tr>\n",
       "    <tr>\n",
       "      <th>4</th>\n",
       "      <td>2010-07-22</td>\n",
       "      <td>0.08</td>\n",
       "      <td>0.08</td>\n",
       "      <td>0.05</td>\n",
       "      <td>0.05</td>\n",
       "    </tr>\n",
       "  </tbody>\n",
       "</table>\n",
       "</div>"
      ],
      "text/plain": [
       "        Date  Open  High   Low  Close\n",
       "0 2010-07-18  0.05  0.09  0.06   0.09\n",
       "1 2010-07-19  0.09  0.09  0.08   0.08\n",
       "2 2010-07-20  0.08  0.08  0.07   0.07\n",
       "3 2010-07-21  0.07  0.08  0.07   0.08\n",
       "4 2010-07-22  0.08  0.08  0.05   0.05"
      ]
     },
     "execution_count": 7,
     "metadata": {},
     "output_type": "execute_result"
    }
   ],
   "source": [
    "# Show\n",
    "price_df.head()"
   ]
  },
  {
   "cell_type": "markdown",
   "metadata": {},
   "source": [
    "# `#################################################################`"
   ]
  },
  {
   "cell_type": "markdown",
   "metadata": {},
   "source": [
    "# 配對price和news"
   ]
  },
  {
   "cell_type": "markdown",
   "metadata": {},
   "source": [
    "### 將Date 設為 index"
   ]
  },
  {
   "cell_type": "code",
   "execution_count": 8,
   "metadata": {
    "collapsed": true
   },
   "outputs": [],
   "source": [
    "#make a copy\n",
    "price_df['Datee'] = price_df['Date']"
   ]
  },
  {
   "cell_type": "code",
   "execution_count": 9,
   "metadata": {
    "collapsed": true
   },
   "outputs": [],
   "source": [
    "# set index\n",
    "price_df.set_index('Date',inplace=True)"
   ]
  },
  {
   "cell_type": "markdown",
   "metadata": {},
   "source": [
    "### 日期標記方法"
   ]
  },
  {
   "cell_type": "code",
   "execution_count": 10,
   "metadata": {
    "collapsed": true
   },
   "outputs": [],
   "source": [
    "import talib"
   ]
  },
  {
   "cell_type": "code",
   "execution_count": 11,
   "metadata": {
    "collapsed": true
   },
   "outputs": [],
   "source": [
    "price_df['C_back1'] = price_df['Close'].shift(-1)\n",
    "price_df['C_forward1'] = price_df['Close'].shift(1)"
   ]
  },
  {
   "cell_type": "code",
   "execution_count": 12,
   "metadata": {
    "collapsed": true
   },
   "outputs": [],
   "source": [
    "# 標記漲跌用\n",
    "price_df['Tag'] = 0"
   ]
  },
  {
   "cell_type": "markdown",
   "metadata": {},
   "source": [
    "### 進行標記"
   ]
  },
  {
   "cell_type": "code",
   "execution_count": 13,
   "metadata": {
    "scrolled": true
   },
   "outputs": [],
   "source": [
    "for index, row in price_df.iterrows():\n",
    "    diff = row['C_forward1']/row['Close']\n",
    "    price_df.set_value(index, 'Diff', diff)\n",
    "    try:\n",
    "        if diff >= 1.2:\n",
    "            price_df.set_value(index, 'Tag', 1)\n",
    "            #print('大漲', index, diff)\n",
    "        elif diff <= 0.7:\n",
    "            price_df.set_value(index, 'Tag', 2)\n",
    "            #print('大跌', index,diff)\n",
    "        else:\n",
    "            price_df.set_value(index, 'Tag', 0)\n",
    "    except:\n",
    "        print('error', index)"
   ]
  },
  {
   "cell_type": "markdown",
   "metadata": {},
   "source": [
    "### 輸出\"有標記\"的日期"
   ]
  },
  {
   "cell_type": "code",
   "execution_count": 14,
   "metadata": {},
   "outputs": [],
   "source": [
    "df_tag = price_df[(price_df['Tag'] == 1) | (price_df['Tag'] == 2)]"
   ]
  },
  {
   "cell_type": "code",
   "execution_count": 15,
   "metadata": {},
   "outputs": [
    {
     "data": {
      "text/html": [
       "<div>\n",
       "<table border=\"1\" class=\"dataframe\">\n",
       "  <thead>\n",
       "    <tr style=\"text-align: right;\">\n",
       "      <th></th>\n",
       "      <th>Open</th>\n",
       "      <th>High</th>\n",
       "      <th>Low</th>\n",
       "      <th>Close</th>\n",
       "      <th>Datee</th>\n",
       "      <th>C_back1</th>\n",
       "      <th>C_forward1</th>\n",
       "      <th>Tag</th>\n",
       "      <th>Diff</th>\n",
       "    </tr>\n",
       "    <tr>\n",
       "      <th>Date</th>\n",
       "      <th></th>\n",
       "      <th></th>\n",
       "      <th></th>\n",
       "      <th></th>\n",
       "      <th></th>\n",
       "      <th></th>\n",
       "      <th></th>\n",
       "      <th></th>\n",
       "      <th></th>\n",
       "    </tr>\n",
       "  </thead>\n",
       "  <tbody>\n",
       "    <tr>\n",
       "      <th>2010-07-22</th>\n",
       "      <td>0.08</td>\n",
       "      <td>0.08</td>\n",
       "      <td>0.05</td>\n",
       "      <td>0.05</td>\n",
       "      <td>2010-07-22</td>\n",
       "      <td>0.06</td>\n",
       "      <td>0.08</td>\n",
       "      <td>1</td>\n",
       "      <td>1.600000</td>\n",
       "    </tr>\n",
       "    <tr>\n",
       "      <th>2010-07-24</th>\n",
       "      <td>0.06</td>\n",
       "      <td>0.06</td>\n",
       "      <td>0.05</td>\n",
       "      <td>0.05</td>\n",
       "      <td>2010-07-24</td>\n",
       "      <td>0.05</td>\n",
       "      <td>0.06</td>\n",
       "      <td>1</td>\n",
       "      <td>1.200000</td>\n",
       "    </tr>\n",
       "    <tr>\n",
       "      <th>2010-11-06</th>\n",
       "      <td>0.26</td>\n",
       "      <td>0.50</td>\n",
       "      <td>0.24</td>\n",
       "      <td>0.39</td>\n",
       "      <td>2010-11-06</td>\n",
       "      <td>0.34</td>\n",
       "      <td>0.26</td>\n",
       "      <td>2</td>\n",
       "      <td>0.666667</td>\n",
       "    </tr>\n",
       "    <tr>\n",
       "      <th>2010-11-08</th>\n",
       "      <td>0.34</td>\n",
       "      <td>0.37</td>\n",
       "      <td>0.23</td>\n",
       "      <td>0.24</td>\n",
       "      <td>2010-11-08</td>\n",
       "      <td>0.21</td>\n",
       "      <td>0.34</td>\n",
       "      <td>1</td>\n",
       "      <td>1.416667</td>\n",
       "    </tr>\n",
       "    <tr>\n",
       "      <th>2010-11-16</th>\n",
       "      <td>0.27</td>\n",
       "      <td>0.27</td>\n",
       "      <td>0.22</td>\n",
       "      <td>0.22</td>\n",
       "      <td>2010-11-16</td>\n",
       "      <td>0.23</td>\n",
       "      <td>0.27</td>\n",
       "      <td>1</td>\n",
       "      <td>1.227273</td>\n",
       "    </tr>\n",
       "  </tbody>\n",
       "</table>\n",
       "</div>"
      ],
      "text/plain": [
       "            Open  High   Low  Close      Datee  C_back1  C_forward1  Tag  \\\n",
       "Date                                                                       \n",
       "2010-07-22  0.08  0.08  0.05   0.05 2010-07-22     0.06        0.08    1   \n",
       "2010-07-24  0.06  0.06  0.05   0.05 2010-07-24     0.05        0.06    1   \n",
       "2010-11-06  0.26  0.50  0.24   0.39 2010-11-06     0.34        0.26    2   \n",
       "2010-11-08  0.34  0.37  0.23   0.24 2010-11-08     0.21        0.34    1   \n",
       "2010-11-16  0.27  0.27  0.22   0.22 2010-11-16     0.23        0.27    1   \n",
       "\n",
       "                Diff  \n",
       "Date                  \n",
       "2010-07-22  1.600000  \n",
       "2010-07-24  1.200000  \n",
       "2010-11-06  0.666667  \n",
       "2010-11-08  1.416667  \n",
       "2010-11-16  1.227273  "
      ]
     },
     "execution_count": 15,
     "metadata": {},
     "output_type": "execute_result"
    }
   ],
   "source": [
    "df_tag.head()"
   ]
  },
  {
   "cell_type": "markdown",
   "metadata": {},
   "source": [
    "### connect news_db"
   ]
  },
  {
   "cell_type": "code",
   "execution_count": 16,
   "metadata": {},
   "outputs": [],
   "source": [
    "news_db = client.bitcoinnews_db\n",
    "newsCollection = news_db.newsCollection"
   ]
  },
  {
   "cell_type": "markdown",
   "metadata": {},
   "source": [
    "### 編號配對兩個df"
   ]
  },
  {
   "cell_type": "code",
   "execution_count": 17,
   "metadata": {
    "collapsed": true
   },
   "outputs": [],
   "source": [
    "news_collect = []\n",
    "news_tag_collect = []\n",
    "news_markdate_collect = []"
   ]
  },
  {
   "cell_type": "markdown",
   "metadata": {},
   "source": [
    "### 取出時間對應的新聞"
   ]
  },
  {
   "cell_type": "code",
   "execution_count": 18,
   "metadata": {},
   "outputs": [
    {
     "name": "stderr",
     "output_type": "stream",
     "text": [
      "D:\\Anaconda3\\lib\\site-packages\\pandas\\core\\indexing.py:288: SettingWithCopyWarning: \n",
      "A value is trying to be set on a copy of a slice from a DataFrame.\n",
      "Try using .loc[row_indexer,col_indexer] = value instead\n",
      "\n",
      "See the caveats in the documentation: http://pandas.pydata.org/pandas-docs/stable/indexing.html#indexing-view-versus-copy\n",
      "  self.obj[key] = _infer_fill_value(value)\n",
      "D:\\Anaconda3\\lib\\site-packages\\pandas\\core\\indexing.py:465: SettingWithCopyWarning: \n",
      "A value is trying to be set on a copy of a slice from a DataFrame.\n",
      "Try using .loc[row_indexer,col_indexer] = value instead\n",
      "\n",
      "See the caveats in the documentation: http://pandas.pydata.org/pandas-docs/stable/indexing.html#indexing-view-versus-copy\n",
      "  self.obj[item] = s\n"
     ]
    }
   ],
   "source": [
    "i = 1\n",
    "for index, row in df_tag.iterrows():\n",
    "    if row['Tag'] == 1:\n",
    "        news_tag = str(i) + 'U'\n",
    "    else:\n",
    "        news_tag = str(i) + 'D'\n",
    "    df_tag.set_value(index, 'Newstag', news_tag)\n",
    "    start = row['Datee'] + datetime.timedelta(days=-5)\n",
    "    end = row['Datee'] + datetime.timedelta(days=5)\n",
    "    today = row['Datee']\n",
    "    for item in newsCollection.find({'Date':{'$gte': start, '$lte': end}}):\n",
    "        news_collect.append(item)\n",
    "        news_tag_collect.append(news_tag)\n",
    "        news_markdate_collect.append(today)\n",
    "    i += 1"
   ]
  },
  {
   "cell_type": "code",
   "execution_count": 19,
   "metadata": {},
   "outputs": [],
   "source": [
    "news_df =  pd.DataFrame(news_collect)\n",
    "news_df['Newstag'] = news_tag_collect\n",
    "news_df['Markday'] = news_markdate_collect"
   ]
  },
  {
   "cell_type": "code",
   "execution_count": 20,
   "metadata": {
    "collapsed": true
   },
   "outputs": [],
   "source": [
    "del news_df['_id']"
   ]
  },
  {
   "cell_type": "code",
   "execution_count": 21,
   "metadata": {
    "collapsed": true
   },
   "outputs": [],
   "source": [
    "news_df['BorA'] = 0"
   ]
  },
  {
   "cell_type": "code",
   "execution_count": 22,
   "metadata": {},
   "outputs": [],
   "source": [
    "for index, row in news_df.iterrows():\n",
    "    if row['Date'] >= row['Markday']:\n",
    "        news_df.set_value(index, ['BorA'], 'after')\n",
    "    else:\n",
    "        news_df.set_value(index, ['BorA'], 'before')"
   ]
  },
  {
   "cell_type": "markdown",
   "metadata": {},
   "source": [
    "### check data"
   ]
  },
  {
   "cell_type": "code",
   "execution_count": 32,
   "metadata": {},
   "outputs": [
    {
     "data": {
      "text/html": [
       "<div>\n",
       "<table border=\"1\" class=\"dataframe\">\n",
       "  <thead>\n",
       "    <tr style=\"text-align: right;\">\n",
       "      <th></th>\n",
       "      <th>Content</th>\n",
       "      <th>Date</th>\n",
       "      <th>Link</th>\n",
       "      <th>Source</th>\n",
       "      <th>Title</th>\n",
       "      <th>Newstag</th>\n",
       "      <th>Markday</th>\n",
       "      <th>BorA</th>\n",
       "    </tr>\n",
       "  </thead>\n",
       "  <tbody>\n",
       "    <tr>\n",
       "      <th>0</th>\n",
       "      <td>\\n2008  年11 月 1 日，一位自稱中本聰 (Satoshi Nakamoto) 的...</td>\n",
       "      <td>2013-04-12 15:12:00</td>\n",
       "      <td>https://technews.tw/2013/04/12/review-of-bitcoin/</td>\n",
       "      <td>technews</td>\n",
       "      <td>回顧比特幣 (bitcoin) 風雲，這一切如何開始？</td>\n",
       "      <td>19U</td>\n",
       "      <td>2013-04-10</td>\n",
       "      <td>after</td>\n",
       "    </tr>\n",
       "    <tr>\n",
       "      <th>1</th>\n",
       "      <td>\\n一枚比特幣在今年二月份的時候價值大約 25 美元，而今天它的價值是 185 美元。諾貝爾...</td>\n",
       "      <td>2013-04-10 14:09:00</td>\n",
       "      <td>https://finance.technews.tw/2013/04/10/krugman...</td>\n",
       "      <td>technews</td>\n",
       "      <td>諾貝爾經濟學家 Krugman 錯了嗎：比特幣熱愈演愈烈</td>\n",
       "      <td>19U</td>\n",
       "      <td>2013-04-10</td>\n",
       "      <td>after</td>\n",
       "    </tr>\n",
       "    <tr>\n",
       "      <th>2</th>\n",
       "      <td>\\n2008  年11 月 1 日，一位自稱中本聰 (Satoshi Nakamoto) 的...</td>\n",
       "      <td>2013-04-12 15:12:00</td>\n",
       "      <td>https://technews.tw/2013/04/12/review-of-bitcoin/</td>\n",
       "      <td>technews</td>\n",
       "      <td>回顧比特幣 (bitcoin) 風雲，這一切如何開始？</td>\n",
       "      <td>20U</td>\n",
       "      <td>2013-04-11</td>\n",
       "      <td>after</td>\n",
       "    </tr>\n",
       "    <tr>\n",
       "      <th>3</th>\n",
       "      <td>\\n一枚比特幣在今年二月份的時候價值大約 25 美元，而今天它的價值是 185 美元。諾貝爾...</td>\n",
       "      <td>2013-04-10 14:09:00</td>\n",
       "      <td>https://finance.technews.tw/2013/04/10/krugman...</td>\n",
       "      <td>technews</td>\n",
       "      <td>諾貝爾經濟學家 Krugman 錯了嗎：比特幣熱愈演愈烈</td>\n",
       "      <td>20U</td>\n",
       "      <td>2013-04-11</td>\n",
       "      <td>before</td>\n",
       "    </tr>\n",
       "    <tr>\n",
       "      <th>4</th>\n",
       "      <td>\\n2008  年11 月 1 日，一位自稱中本聰 (Satoshi Nakamoto) 的...</td>\n",
       "      <td>2013-04-12 15:12:00</td>\n",
       "      <td>https://technews.tw/2013/04/12/review-of-bitcoin/</td>\n",
       "      <td>technews</td>\n",
       "      <td>回顧比特幣 (bitcoin) 風雲，這一切如何開始？</td>\n",
       "      <td>21U</td>\n",
       "      <td>2013-04-13</td>\n",
       "      <td>before</td>\n",
       "    </tr>\n",
       "  </tbody>\n",
       "</table>\n",
       "</div>"
      ],
      "text/plain": [
       "                                             Content                Date  \\\n",
       "0  \\n2008  年11 月 1 日，一位自稱中本聰 (Satoshi Nakamoto) 的... 2013-04-12 15:12:00   \n",
       "1  \\n一枚比特幣在今年二月份的時候價值大約 25 美元，而今天它的價值是 185 美元。諾貝爾... 2013-04-10 14:09:00   \n",
       "2  \\n2008  年11 月 1 日，一位自稱中本聰 (Satoshi Nakamoto) 的... 2013-04-12 15:12:00   \n",
       "3  \\n一枚比特幣在今年二月份的時候價值大約 25 美元，而今天它的價值是 185 美元。諾貝爾... 2013-04-10 14:09:00   \n",
       "4  \\n2008  年11 月 1 日，一位自稱中本聰 (Satoshi Nakamoto) 的... 2013-04-12 15:12:00   \n",
       "\n",
       "                                                Link    Source  \\\n",
       "0  https://technews.tw/2013/04/12/review-of-bitcoin/  technews   \n",
       "1  https://finance.technews.tw/2013/04/10/krugman...  technews   \n",
       "2  https://technews.tw/2013/04/12/review-of-bitcoin/  technews   \n",
       "3  https://finance.technews.tw/2013/04/10/krugman...  technews   \n",
       "4  https://technews.tw/2013/04/12/review-of-bitcoin/  technews   \n",
       "\n",
       "                          Title Newstag    Markday    BorA  \n",
       "0   回顧比特幣 (bitcoin) 風雲，這一切如何開始？     19U 2013-04-10   after  \n",
       "1  諾貝爾經濟學家 Krugman 錯了嗎：比特幣熱愈演愈烈     19U 2013-04-10   after  \n",
       "2   回顧比特幣 (bitcoin) 風雲，這一切如何開始？     20U 2013-04-11   after  \n",
       "3  諾貝爾經濟學家 Krugman 錯了嗎：比特幣熱愈演愈烈     20U 2013-04-11  before  \n",
       "4   回顧比特幣 (bitcoin) 風雲，這一切如何開始？     21U 2013-04-13  before  "
      ]
     },
     "execution_count": 32,
     "metadata": {},
     "output_type": "execute_result"
    }
   ],
   "source": [
    "news_df.head()"
   ]
  },
  {
   "cell_type": "code",
   "execution_count": 30,
   "metadata": {},
   "outputs": [],
   "source": [
    "# df_tag.head()"
   ]
  },
  {
   "cell_type": "markdown",
   "metadata": {},
   "source": [
    "# 文本分析"
   ]
  },
  {
   "cell_type": "code",
   "execution_count": 31,
   "metadata": {
    "collapsed": true
   },
   "outputs": [],
   "source": [
    "#encoding=utf-8\n",
    "import jieba"
   ]
  },
  {
   "cell_type": "code",
   "execution_count": 33,
   "metadata": {
    "collapsed": true
   },
   "outputs": [],
   "source": [
    "words = jieba.cut(news_df['Title'], cut_all=False)"
   ]
  },
  {
   "cell_type": "code",
   "execution_count": 35,
   "metadata": {},
   "outputs": [
    {
     "ename": "AttributeError",
     "evalue": "'Series' object has no attribute 'decode'",
     "output_type": "error",
     "traceback": [
      "\u001b[0;31m---------------------------------------------------------------------------\u001b[0m",
      "\u001b[0;31mAttributeError\u001b[0m                            Traceback (most recent call last)",
      "\u001b[0;32m<ipython-input-35-2afc883d89e6>\u001b[0m in \u001b[0;36m<module>\u001b[0;34m()\u001b[0m\n\u001b[0;32m----> 1\u001b[0;31m \u001b[1;32mfor\u001b[0m \u001b[0mword\u001b[0m \u001b[1;32min\u001b[0m \u001b[0mwords\u001b[0m\u001b[1;33m:\u001b[0m\u001b[1;33m\u001b[0m\u001b[0m\n\u001b[0m\u001b[1;32m      2\u001b[0m     \u001b[0mprint\u001b[0m\u001b[1;33m(\u001b[0m\u001b[0mword\u001b[0m\u001b[1;33m)\u001b[0m\u001b[1;33m\u001b[0m\u001b[0m\n",
      "\u001b[0;32mD:\\Anaconda3\\lib\\site-packages\\jieba\\__init__.py\u001b[0m in \u001b[0;36mcut\u001b[0;34m(self, sentence, cut_all, HMM)\u001b[0m\n\u001b[1;32m    280\u001b[0m             \u001b[1;33m-\u001b[0m \u001b[0mHMM\u001b[0m\u001b[1;33m:\u001b[0m \u001b[0mWhether\u001b[0m \u001b[0mto\u001b[0m \u001b[0muse\u001b[0m \u001b[0mthe\u001b[0m \u001b[0mHidden\u001b[0m \u001b[0mMarkov\u001b[0m \u001b[0mModel\u001b[0m\u001b[1;33m.\u001b[0m\u001b[1;33m\u001b[0m\u001b[0m\n\u001b[1;32m    281\u001b[0m         '''\n\u001b[0;32m--> 282\u001b[0;31m         \u001b[0msentence\u001b[0m \u001b[1;33m=\u001b[0m \u001b[0mstrdecode\u001b[0m\u001b[1;33m(\u001b[0m\u001b[0msentence\u001b[0m\u001b[1;33m)\u001b[0m\u001b[1;33m\u001b[0m\u001b[0m\n\u001b[0m\u001b[1;32m    283\u001b[0m \u001b[1;33m\u001b[0m\u001b[0m\n\u001b[1;32m    284\u001b[0m         \u001b[1;32mif\u001b[0m \u001b[0mcut_all\u001b[0m\u001b[1;33m:\u001b[0m\u001b[1;33m\u001b[0m\u001b[0m\n",
      "\u001b[0;32mD:\\Anaconda3\\lib\\site-packages\\jieba\\_compat.py\u001b[0m in \u001b[0;36mstrdecode\u001b[0;34m(sentence)\u001b[0m\n\u001b[1;32m     35\u001b[0m     \u001b[1;32mif\u001b[0m \u001b[1;32mnot\u001b[0m \u001b[0misinstance\u001b[0m\u001b[1;33m(\u001b[0m\u001b[0msentence\u001b[0m\u001b[1;33m,\u001b[0m \u001b[0mtext_type\u001b[0m\u001b[1;33m)\u001b[0m\u001b[1;33m:\u001b[0m\u001b[1;33m\u001b[0m\u001b[0m\n\u001b[1;32m     36\u001b[0m         \u001b[1;32mtry\u001b[0m\u001b[1;33m:\u001b[0m\u001b[1;33m\u001b[0m\u001b[0m\n\u001b[0;32m---> 37\u001b[0;31m             \u001b[0msentence\u001b[0m \u001b[1;33m=\u001b[0m \u001b[0msentence\u001b[0m\u001b[1;33m.\u001b[0m\u001b[0mdecode\u001b[0m\u001b[1;33m(\u001b[0m\u001b[1;34m'utf-8'\u001b[0m\u001b[1;33m)\u001b[0m\u001b[1;33m\u001b[0m\u001b[0m\n\u001b[0m\u001b[1;32m     38\u001b[0m         \u001b[1;32mexcept\u001b[0m \u001b[0mUnicodeDecodeError\u001b[0m\u001b[1;33m:\u001b[0m\u001b[1;33m\u001b[0m\u001b[0m\n\u001b[1;32m     39\u001b[0m             \u001b[0msentence\u001b[0m \u001b[1;33m=\u001b[0m \u001b[0msentence\u001b[0m\u001b[1;33m.\u001b[0m\u001b[0mdecode\u001b[0m\u001b[1;33m(\u001b[0m\u001b[1;34m'gbk'\u001b[0m\u001b[1;33m,\u001b[0m \u001b[1;34m'ignore'\u001b[0m\u001b[1;33m)\u001b[0m\u001b[1;33m\u001b[0m\u001b[0m\n",
      "\u001b[0;32mD:\\Anaconda3\\lib\\site-packages\\pandas\\core\\generic.py\u001b[0m in \u001b[0;36m__getattr__\u001b[0;34m(self, name)\u001b[0m\n\u001b[1;32m   2670\u001b[0m             \u001b[1;32mif\u001b[0m \u001b[0mname\u001b[0m \u001b[1;32min\u001b[0m \u001b[0mself\u001b[0m\u001b[1;33m.\u001b[0m\u001b[0m_info_axis\u001b[0m\u001b[1;33m:\u001b[0m\u001b[1;33m\u001b[0m\u001b[0m\n\u001b[1;32m   2671\u001b[0m                 \u001b[1;32mreturn\u001b[0m \u001b[0mself\u001b[0m\u001b[1;33m[\u001b[0m\u001b[0mname\u001b[0m\u001b[1;33m]\u001b[0m\u001b[1;33m\u001b[0m\u001b[0m\n\u001b[0;32m-> 2672\u001b[0;31m             \u001b[1;32mreturn\u001b[0m \u001b[0mobject\u001b[0m\u001b[1;33m.\u001b[0m\u001b[0m__getattribute__\u001b[0m\u001b[1;33m(\u001b[0m\u001b[0mself\u001b[0m\u001b[1;33m,\u001b[0m \u001b[0mname\u001b[0m\u001b[1;33m)\u001b[0m\u001b[1;33m\u001b[0m\u001b[0m\n\u001b[0m\u001b[1;32m   2673\u001b[0m \u001b[1;33m\u001b[0m\u001b[0m\n\u001b[1;32m   2674\u001b[0m     \u001b[1;32mdef\u001b[0m \u001b[0m__setattr__\u001b[0m\u001b[1;33m(\u001b[0m\u001b[0mself\u001b[0m\u001b[1;33m,\u001b[0m \u001b[0mname\u001b[0m\u001b[1;33m,\u001b[0m \u001b[0mvalue\u001b[0m\u001b[1;33m)\u001b[0m\u001b[1;33m:\u001b[0m\u001b[1;33m\u001b[0m\u001b[0m\n",
      "\u001b[0;31mAttributeError\u001b[0m: 'Series' object has no attribute 'decode'"
     ]
    }
   ],
   "source": [
    "for word in words:\n",
    "    print(word)"
   ]
  },
  {
   "cell_type": "markdown",
   "metadata": {},
   "source": [
    "# `#################################################################`"
   ]
  },
  {
   "cell_type": "markdown",
   "metadata": {},
   "source": [
    "### 畫圖、指標等"
   ]
  },
  {
   "cell_type": "code",
   "execution_count": 25,
   "metadata": {
    "collapsed": true
   },
   "outputs": [],
   "source": [
    "# price_df['Close: 30 Day Mean'] = price_df['Close'].rolling(window=20).mean()\n",
    "# price_df['Upper'] = price_price_df['Close: 30 Day Mean'] + 2*price_df['Close'].rolling(window=20).std()\n",
    "# price_df['Lower'] = price_df['Close: 30 Day Mean'] - 2*price_df['Close'].rolling(window=20).std()\n",
    "# price_df[['Close','Close: 30 Day Mean','Upper','Lower']].plot(figsize=(16,6))"
   ]
  },
  {
   "cell_type": "markdown",
   "metadata": {},
   "source": [
    "### Mongodb Query 筆記"
   ]
  },
  {
   "cell_type": "markdown",
   "metadata": {},
   "source": [
    "#### df_tag.loc['2010-07-24', 'Before_news']\n",
    "\n",
    "http://blog.csdn.net/buleriver/article/details/8912407\n",
    "\n",
    "<pre>\n",
    "大於：$gt\n",
    "大於等於：$gte\n",
    "小於：$lt\n",
    "小於等於：$lte\n",
    "不等於: $ne\n",
    "IN：$in\n",
    "NOT IN: $nin\n",
    "取餘：$mod\n",
    "非：$NOT\n",
    "或：$OR\n",
    "</pre>\n",
    "<pre>\n",
    "例子1：在XXX中查詢年齡>20且<=30的人：\n",
    "[javascript] view plain copy \n",
    "db.XXX.find({ \"age\" :{ \"$gt\" :20,  \"lte\" :30}});  \n",
    "\n",
    "例子2：在XXX中查詢年齡不是20的人：\n",
    "[javascript] view plain copy \n",
    "db.XXX.find({ \"age\" :{ \"$ne\" :20}});  \n",
    "\n",
    "例子3：名稱為BuleRiver或者BuleRiver2的人，不要使用OR\n",
    "[javascript] view plain copy \n",
    "db.XXX.find({ \"name\" :{ \"$in\" :[ \"BuleRiver\" ,  \"BuleRiver2\" ]}});  \n",
    "\n",
    "例子4：年齡MOD5等於3和不等於3的所有人：\n",
    "[javascript] view plain copy \n",
    "db.XXX.find({ \"age\" :{ \"$mod\" :[5,3]}});  \n",
    "db.XXX.find({ \"age\" :{ \"$not\" :{ \"$mod\" :[5, 3]}}});  \n",
    "\n",
    "例子5：使用OR實現例子3\n",
    "[javascript] view plain copy \n",
    "db.XXX.find({ \"$OR\" :[{ \"name\" : \"BuleRiver\" }, { \"name\" : \"BuleRiver2\" }]});  \n",
    "</pre>"
   ]
  },
  {
   "cell_type": "markdown",
   "metadata": {},
   "source": [
    "### 連結DB/with user, password的func筆記"
   ]
  },
  {
   "cell_type": "code",
   "execution_count": 26,
   "metadata": {
    "collapsed": true
   },
   "outputs": [],
   "source": [
    "# def _connect_mongo(host, port, username, password, db):\n",
    "#     if username and password:\n",
    "#         mongo_uri = 'mongodb://%s:%s@%s:%s/%s' % (username, password, host, port, db)\n",
    "#         conn = MongoClient(mongo_uri)\n",
    "#     else:\n",
    "#         conn = MongoClient(host, port)\n",
    "#     return conn[db]\n",
    "\n",
    "# def read_mongo(db, collection, query={}, host='localhost', port=27017, username=None, password=None, no_id=True):\n",
    "#     # Connect to MongoDB\n",
    "#     db = _connect_mongo(host=host, port=port, username=username, password=password, db=db)\n",
    "#     # Make a query to the specific DB and Collection\n",
    "#     cursor = db[collection].find(query)\n",
    "#     # Expand the cursor and construct the DataFrame\n",
    "#     df =  pd.DataFrame(list(cursor))\n",
    "#     # Delete the _id\n",
    "#     if no_id:\n",
    "#         del df['_id']\n",
    "#     return df"
   ]
  }
 ],
 "metadata": {
  "kernelspec": {
   "display_name": "Python 3",
   "language": "python",
   "name": "python3"
  },
  "language_info": {
   "codemirror_mode": {
    "name": "ipython",
    "version": 3
   },
   "file_extension": ".py",
   "mimetype": "text/x-python",
   "name": "python",
   "nbconvert_exporter": "python",
   "pygments_lexer": "ipython3",
   "version": "3.6.0"
  }
 },
 "nbformat": 4,
 "nbformat_minor": 2
}
